{
 "cells": [
  {
   "cell_type": "markdown",
   "metadata": {},
   "source": [
    "## Dataset Preparation\n",
    "\n",
    "So we are about to extract features from the dataset sound using MFCC, put it in a json file,"
   ]
  },
  {
   "cell_type": "code",
   "execution_count": 1,
   "metadata": {},
   "outputs": [
    {
     "data": {
      "text/plain": [
       "22050"
      ]
     },
     "execution_count": 1,
     "metadata": {},
     "output_type": "execute_result"
    }
   ],
   "source": [
    "#import dataset related packages\n",
    "\n",
    "import librosa\n",
    "import os\n",
    "import json\n",
    "\n",
    "sample_length = 22050*1 # sampling rate\n",
    "sample_length"
   ]
  },
  {
   "cell_type": "code",
   "execution_count": 2,
   "metadata": {},
   "outputs": [],
   "source": [
    "def preprocess_dataset(dataset_path, json_path, num_mfcc=13, n_fft=2048, hop_length=512):\n",
    "\n",
    "    data = {\n",
    "        \"mapping\": [],\n",
    "        \"labels\": [],\n",
    "        \"MFCCs\": [],\n",
    "        \"files\": []\n",
    "    }\n",
    "    count=0\n",
    "\n",
    "    # loop through all sub-dirs\n",
    "    for i, (dirpath, dirnames, filenames) in enumerate(os.walk(dataset_path)):\n",
    "\n",
    "        # ensure we're at sub-folder level\n",
    "        if dirpath is not dataset_path:\n",
    "\n",
    "            # save label (i.e., sub-folder name) in the mapping\n",
    "            label = dirpath.split(\"/\")[-1]\n",
    "            data[\"mapping\"].append(label)\n",
    "            print(\"\\nProcessing: '{}'\".format(label))\n",
    "\n",
    "            # process all audio files in sub-dir and store MFCCs\n",
    "            for f in filenames:\n",
    "                file_path = os.path.join(dirpath, f)\n",
    "\n",
    "                # load audio file and slice it to ensure length consistency among different files\n",
    "                signal, sample_rate = librosa.load(file_path)\n",
    "\n",
    "                # drop audio files with less than pre-decided number of samples\n",
    "                if len(signal) >= sample_length:\n",
    "\n",
    "                    # ensure consistency of the length of the signal\n",
    "                    signal = signal[:sample_length]\n",
    "\n",
    "                    # extract MFCCs\n",
    "                    MFCCs = librosa.feature.mfcc(y=signal, sr=sample_rate, n_mfcc=num_mfcc, n_fft=n_fft,\n",
    "                                                    hop_length=hop_length)\n",
    "\n",
    "                    # store data for analysed track\n",
    "                    count=count+1\n",
    "                    data[\"MFCCs\"].append(MFCCs.T.tolist())\n",
    "                    data[\"labels\"].append(i-1)\n",
    "                    data[\"files\"].append(file_path)\n",
    "                    print(str(count)+\" {}: {}\".format(file_path, i-1))\n",
    "\n",
    "    # save data in json file\n",
    "    with open(json_path, \"w\") as fp:\n",
    "        json.dump(data, fp, indent=4)\n"
   ]
  },
  {
   "cell_type": "code",
   "execution_count": 3,
   "metadata": {},
   "outputs": [
    {
     "name": "stdout",
     "output_type": "stream",
     "text": [
      "\n",
      "Processing: 'domestic'\n"
     ]
    },
    {
     "ename": "TypeError",
     "evalue": "mfcc() takes 0 positional arguments but 2 positional arguments (and 1 keyword-only argument) were given",
     "output_type": "error",
     "traceback": [
      "\u001b[1;31m---------------------------------------------------------------------------\u001b[0m",
      "\u001b[1;31mTypeError\u001b[0m                                 Traceback (most recent call last)",
      "Input \u001b[1;32mIn [3]\u001b[0m, in \u001b[0;36m<cell line: 1>\u001b[1;34m()\u001b[0m\n\u001b[1;32m----> 1\u001b[0m \u001b[43mpreprocess_dataset\u001b[49m\u001b[43m(\u001b[49m\u001b[38;5;124;43m'\u001b[39;49m\u001b[38;5;124;43mdataset/mixed/\u001b[39;49m\u001b[38;5;124;43m'\u001b[39;49m\u001b[43m,\u001b[49m\u001b[43m \u001b[49m\u001b[38;5;124;43m'\u001b[39;49m\u001b[38;5;124;43mmixedformat.json\u001b[39;49m\u001b[38;5;124;43m'\u001b[39;49m\u001b[43m)\u001b[49m\n",
      "Input \u001b[1;32mIn [2]\u001b[0m, in \u001b[0;36mpreprocess_dataset\u001b[1;34m(dataset_path, json_path, num_mfcc, n_fft, hop_length)\u001b[0m\n\u001b[0;32m     33\u001b[0m signal \u001b[38;5;241m=\u001b[39m signal[:sample_length]\n\u001b[0;32m     35\u001b[0m \u001b[38;5;66;03m# extract MFCCs\u001b[39;00m\n\u001b[1;32m---> 36\u001b[0m MFCCs \u001b[38;5;241m=\u001b[39m \u001b[43mlibrosa\u001b[49m\u001b[38;5;241;43m.\u001b[39;49m\u001b[43mfeature\u001b[49m\u001b[38;5;241;43m.\u001b[39;49m\u001b[43mmfcc\u001b[49m\u001b[43m(\u001b[49m\u001b[43msignal\u001b[49m\u001b[43m,\u001b[49m\u001b[43m \u001b[49m\u001b[43msample_rate\u001b[49m\u001b[43m,\u001b[49m\u001b[43m \u001b[49m\u001b[43mn_mfcc\u001b[49m\u001b[38;5;241;43m=\u001b[39;49m\u001b[43mnum_mfcc\u001b[49m\u001b[43m,\u001b[49m\u001b[43m \u001b[49m\u001b[43mn_fft\u001b[49m\u001b[38;5;241;43m=\u001b[39;49m\u001b[43mn_fft\u001b[49m\u001b[43m,\u001b[49m\n\u001b[0;32m     37\u001b[0m \u001b[43m                                \u001b[49m\u001b[43mhop_length\u001b[49m\u001b[38;5;241;43m=\u001b[39;49m\u001b[43mhop_length\u001b[49m\u001b[43m)\u001b[49m\n\u001b[0;32m     39\u001b[0m \u001b[38;5;66;03m# store data for analysed track\u001b[39;00m\n\u001b[0;32m     40\u001b[0m count\u001b[38;5;241m=\u001b[39mcount\u001b[38;5;241m+\u001b[39m\u001b[38;5;241m1\u001b[39m\n",
      "\u001b[1;31mTypeError\u001b[0m: mfcc() takes 0 positional arguments but 2 positional arguments (and 1 keyword-only argument) were given"
     ]
    }
   ],
   "source": [
    "preprocess_dataset('dataset/mixed/', 'mixedformat.json')"
   ]
  },
  {
   "cell_type": "markdown",
   "metadata": {},
   "source": [
    "# Call json and train the model\n",
    "\n",
    "call the json, put the features into the neural model, fine tune"
   ]
  },
  {
   "cell_type": "code",
   "execution_count": null,
   "metadata": {},
   "outputs": [],
   "source": [
    "#import training related packages\n",
    "\n",
    "import numpy as np\n",
    "import tensorflow as tf\n",
    "import matplotlib.pyplot as plt\n",
    "from sklearn.model_selection import train_test_split\n",
    "from keras_visualizer import visualizer\n",
    "\n",
    "DATA_PATH = \"mixedformat.json\"\n",
    "SAVED_MODEL_PATH = \"training_mix_reajusted_input.h5\"\n",
    "EPOCHS = 100\n",
    "BATCH_SIZE = 8\n",
    "PATIENCE = 10\n",
    "LEARNING_RATE = 0.0001"
   ]
  },
  {
   "cell_type": "code",
   "execution_count": null,
   "metadata": {},
   "outputs": [],
   "source": [
    "!pip install tensorflow"
   ]
  },
  {
   "cell_type": "code",
   "execution_count": null,
   "metadata": {},
   "outputs": [],
   "source": [
    "def prepare_dataset(data_path, test_size=0.1, validation_size=0.1):\n",
    "    # load dataset\n",
    "    X, y = load_data(data_path)\n",
    "\n",
    "    # create train, validation, test split\n",
    "    X_train, X_test, y_train, y_test = train_test_split(X, y, test_size=test_size)\n",
    "    X_train, X_validation, y_train, y_validation = train_test_split(X_train, y_train, test_size=validation_size)\n",
    "\n",
    "    # add an axis to nd array\n",
    "    X_train = X_train[..., np.newaxis]\n",
    "    X_test = X_test[..., np.newaxis]\n",
    "    X_validation = X_validation[..., np.newaxis]\n",
    "\n",
    "    return X_train, y_train, X_validation, y_validation, X_test, y_test"
   ]
  },
  {
   "cell_type": "code",
   "execution_count": null,
   "metadata": {},
   "outputs": [],
   "source": [
    "def load_data(data_path):\n",
    "    with open(data_path, \"r\") as fp:\n",
    "        data = json.load(fp)\n",
    "\n",
    "    X = np.array(data[\"MFCCs\"])\n",
    "    y = np.array(data[\"labels\"])\n",
    "    print(\"Training sets loaded!\")\n",
    "    return X, y"
   ]
  },
  {
   "cell_type": "code",
   "execution_count": null,
   "metadata": {},
   "outputs": [],
   "source": [
    "def build_model(input_shape, loss=\"sparse_categorical_crossentropy\", learning_rate=0.0001):\n",
    "    \n",
    "    # build network architecture using convolutional layers\n",
    "    model = tf.keras.models.Sequential()\n",
    "\n",
    "    # 1st conv layer\n",
    "    model.add(tf.keras.layers.Conv2D(64, (3, 3), activation='relu', input_shape=input_shape,\n",
    "                                     kernel_regularizer=tf.keras.regularizers.l1_l2(l1=0.0001, l2=0.00001)))\n",
    "    model.add(tf.keras.layers.BatchNormalization())\n",
    "    model.add(tf.keras.layers.MaxPooling2D((3, 3), strides=(2,2), padding='same'))\n",
    "\n",
    "    tf.keras.layers.Dropout(0.5)\n",
    "\n",
    "    # 2nd conv layer\n",
    "    model.add(tf.keras.layers.Conv2D(32, (3, 3), activation='relu',\n",
    "                                     kernel_regularizer=tf.keras.regularizers.l1_l2(l1=0.0001, l2=0.00001)))\n",
    "    model.add(tf.keras.layers.BatchNormalization())\n",
    "    model.add(tf.keras.layers.MaxPooling2D((3, 3), strides=(2,2), padding='same'))\n",
    "\n",
    "    tf.keras.layers.Dropout(0.2)\n",
    "\n",
    "    # 3rd conv layer\n",
    "    model.add(tf.keras.layers.Conv2D(32, (2, 2), activation='relu',\n",
    "                                     kernel_regularizer=tf.keras.regularizers.l1_l2(l1=0.0001, l2=0.00001)))\n",
    "    model.add(tf.keras.layers.BatchNormalization())\n",
    "    model.add(tf.keras.layers.MaxPooling2D((2, 2), strides=(2,2), padding='same'))\n",
    "\n",
    "    tf.keras.layers.Dropout(0.2)\n",
    "\n",
    "    # flatten output and feed into dense layer\n",
    "    model.add(tf.keras.layers.Flatten())\n",
    "    model.add(tf.keras.layers.Dense(64, activation='relu'))\n",
    "    tf.keras.layers.Dropout(0.3)\n",
    "\n",
    "    # softmax output layer\n",
    "    model.add(tf.keras.layers.Dense(4, activation='softmax'))\n",
    "\n",
    "    optimiser = tf.optimizers.Adam(learning_rate=learning_rate)\n",
    "\n",
    "    # compile model\n",
    "    model.compile(optimizer=optimiser,\n",
    "                  loss=loss,\n",
    "                  metrics=[\"accuracy\"])\n",
    "\n",
    "    # print model parameters on console\n",
    "    model.summary()\n",
    "\n",
    "    return model"
   ]
  },
  {
   "cell_type": "code",
   "execution_count": null,
   "metadata": {},
   "outputs": [],
   "source": [
    "def train(model, epochs, batch_size, patience, X_train, y_train, X_validation, y_validation):\n",
    "    \n",
    "    earlystop_callback = tf.keras.callbacks.EarlyStopping(monitor=\"val_accuracy\", min_delta=0.001, patience=patience)\n",
    "\n",
    "    # train model\n",
    "    history = model.fit(X_train,\n",
    "                        y_train,\n",
    "                        epochs=epochs,\n",
    "                        batch_size=batch_size,\n",
    "                        validation_data=(X_validation, y_validation),\n",
    "                        callbacks=[earlystop_callback])\n",
    "    return history"
   ]
  },
  {
   "cell_type": "code",
   "execution_count": null,
   "metadata": {},
   "outputs": [],
   "source": [
    "def plot_history(history):\n",
    "    \n",
    "    fig, axs = plt.subplots(2)\n",
    "\n",
    "    plt.figure(figsize=(5,10))\n",
    "\n",
    "    # create accuracy subplot\n",
    "    axs[0].plot(history.history[\"accuracy\"], label=\"accuracy\")\n",
    "    axs[0].plot(history.history['val_accuracy'], label=\"val_accuracy\")\n",
    "    axs[0].set_ylabel(\"Accuracy\")\n",
    "    axs[0].legend(loc=\"lower right\")\n",
    "    axs[0].set_title(\"Accuracy evaluation\")\n",
    "\n",
    "    # create loss subplot\n",
    "    axs[1].plot(history.history[\"loss\"], label=\"loss\")\n",
    "    axs[1].plot(history.history['val_loss'], label=\"val_loss\")\n",
    "    axs[1].set_xlabel(\"Epoch\")\n",
    "    axs[1].set_ylabel(\"Loss\")\n",
    "    axs[1].legend(loc=\"upper right\")\n",
    "    axs[1].set_title(\"Loss evaluation\")\n",
    "\n",
    "    \n",
    "\n",
    "    plt.show()"
   ]
  },
  {
   "cell_type": "code",
   "execution_count": null,
   "metadata": {},
   "outputs": [],
   "source": [
    "X_train, y_train, X_validation, y_validation, X_test, y_test = prepare_dataset(DATA_PATH)"
   ]
  },
  {
   "cell_type": "code",
   "execution_count": null,
   "metadata": {},
   "outputs": [],
   "source": [
    "input_shape = (X_train.shape[1], X_train.shape[2], 1)\n",
    "model = build_model(input_shape, learning_rate=LEARNING_RATE)"
   ]
  },
  {
   "cell_type": "code",
   "execution_count": null,
   "metadata": {},
   "outputs": [],
   "source": [
    "print(X_train.shape)\n",
    "\n",
    "print(input_shape)"
   ]
  },
  {
   "cell_type": "code",
   "execution_count": null,
   "metadata": {},
   "outputs": [],
   "source": [
    "history = train(model, EPOCHS, BATCH_SIZE, PATIENCE, X_train, y_train, X_validation, y_validation)"
   ]
  },
  {
   "cell_type": "code",
   "execution_count": null,
   "metadata": {},
   "outputs": [],
   "source": [
    "plot_history(history)"
   ]
  },
  {
   "cell_type": "code",
   "execution_count": null,
   "metadata": {},
   "outputs": [],
   "source": [
    "test_loss, test_acc = model.evaluate(X_test, y_test)"
   ]
  },
  {
   "cell_type": "code",
   "execution_count": null,
   "metadata": {},
   "outputs": [],
   "source": [
    "test_loss"
   ]
  },
  {
   "cell_type": "code",
   "execution_count": null,
   "metadata": {},
   "outputs": [],
   "source": [
    "test_acc"
   ]
  },
  {
   "cell_type": "code",
   "execution_count": null,
   "metadata": {},
   "outputs": [],
   "source": [
    "model.save(SAVED_MODEL_PATH)"
   ]
  },
  {
   "cell_type": "markdown",
   "metadata": {},
   "source": [
    "## Prediction \n",
    "Let's try this guy out"
   ]
  },
  {
   "cell_type": "code",
   "execution_count": null,
   "metadata": {},
   "outputs": [],
   "source": [
    "#preprocess the input sample function\n",
    "def preprocess(file_path, num_mfcc=13, n_fft=2048, hop_length=512):\n",
    "        \"\"\"Extract MFCCs from audio file.\n",
    "        :param file_path (str): Path of audio file\n",
    "        :param num_mfcc (int): # of coefficients to extract\n",
    "        :param n_fft (int): Interval we consider to apply STFT. Measured in # of samples\n",
    "        :param hop_length (int): Sliding window for STFT. Measured in # of samples\n",
    "        :return MFCCs (ndarray): 2-dim array with MFCC data of shape (# time steps, # coefficients)\n",
    "        \"\"\"\n",
    "\n",
    "        # load audio file\n",
    "        signal, sample_rate = librosa.load(file_path)\n",
    "\n",
    "        if len(signal) >= sample_length:\n",
    "            # ensure consistency of the length of the signal\n",
    "            signal = signal[:sample_length]\n",
    "\n",
    "            # extract MFCCs\n",
    "            MFCCs = librosa.feature.mfcc(signal, sample_rate, n_mfcc=num_mfcc, n_fft=n_fft,\n",
    "                                         hop_length=hop_length)\n",
    "        return MFCCs.T\n"
   ]
  },
  {
   "cell_type": "code",
   "execution_count": null,
   "metadata": {},
   "outputs": [],
   "source": [
    "loaded=tf.keras.models.load_model(SAVED_MODEL_PATH)"
   ]
  },
  {
   "cell_type": "code",
   "execution_count": null,
   "metadata": {},
   "outputs": [],
   "source": [
    "def predict(file_path):\n",
    "       \n",
    "        # extract MFCC\n",
    "        MFCCs = preprocess(file_path)\n",
    "\n",
    "        # we need a 4-dim array to feed to the model for prediction: (# samples, # time steps, # coefficients, 1)\n",
    "        MFCCs = MFCCs[np.newaxis, ..., np.newaxis]\n",
    "\n",
    "        # get the predicted label\n",
    "        predictions = loaded.predict(MFCCs)\n",
    "\n",
    "        return predictions"
   ]
  },
  {
   "cell_type": "code",
   "execution_count": null,
   "metadata": {},
   "outputs": [],
   "source": [
    "res=predict(\"./dataset/testing.wav\")\n",
    "res"
   ]
  },
  {
   "cell_type": "code",
   "execution_count": null,
   "metadata": {},
   "outputs": [],
   "source": [
    "print(\"Violence Prediction: \\n\")\n",
    "print(\"Domestic: \"+str(res[0,0]*100)+\"%\")\n",
    "print(\"Physical: \"+str(res[0,1]*100)+\"%\")\n",
    "print(\"Sexual: \"+str(res[0,2]*100)+\"%\")\n",
    "print(\"Stalking: \"+str(res[0,3]*100)+\"%\")"
   ]
  }
 ],
 "metadata": {
  "kernelspec": {
   "display_name": "Python 3 (ipykernel)",
   "language": "python",
   "name": "python3"
  },
  "language_info": {
   "codemirror_mode": {
    "name": "ipython",
    "version": 3
   },
   "file_extension": ".py",
   "mimetype": "text/x-python",
   "name": "python",
   "nbconvert_exporter": "python",
   "pygments_lexer": "ipython3",
   "version": "3.9.12"
  }
 },
 "nbformat": 4,
 "nbformat_minor": 2
}
